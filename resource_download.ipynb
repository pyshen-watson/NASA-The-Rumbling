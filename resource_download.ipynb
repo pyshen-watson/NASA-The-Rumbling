{
 "cells": [
  {
   "cell_type": "markdown",
   "metadata": {},
   "source": [
    "## Resource Download Notebook\n",
    "This notebook is used for download the dataset from [The Gateway to Astronaut Photography of Earth](https://eol.jsc.nasa.gov/)"
   ]
  },
  {
   "cell_type": "code",
   "execution_count": null,
   "metadata": {},
   "outputs": [],
   "source": [
    "# If you do not have gdown, please install it by the following command\n",
    "!pip install gdown"
   ]
  },
  {
   "cell_type": "code",
   "execution_count": null,
   "metadata": {},
   "outputs": [],
   "source": [
    "!mkdir -p images\n",
    "!gdown --id 12uTho5HPxwYDjb8-k1quvtEkElQ5Li3A -o ISS_lightning.zip\n",
    "!mv ISS_lightning.zip images\n",
    "!unzip images/ISS_lightning.zip -d images\n",
    "!unzip images/LowRes.zip -d images\n",
    "!unzip images/HighRes.zip -d images"
   ]
  }
 ],
 "metadata": {
  "kernelspec": {
   "display_name": "NASA",
   "language": "python",
   "name": "python3"
  },
  "language_info": {
   "codemirror_mode": {
    "name": "ipython",
    "version": 3
   },
   "file_extension": ".py",
   "mimetype": "text/x-python",
   "name": "python",
   "nbconvert_exporter": "python",
   "pygments_lexer": "ipython3",
   "version": "3.10.13"
  }
 },
 "nbformat": 4,
 "nbformat_minor": 2
}
