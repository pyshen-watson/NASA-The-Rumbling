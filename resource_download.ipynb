{
 "cells": [
  {
   "cell_type": "markdown",
   "metadata": {},
   "source": [
    "## Resource Download Notebook\n",
    "This notebook is used for download the dataset from [The Gateway to Astronaut Photography of Earth](https://eol.jsc.nasa.gov/)"
   ]
  },
  {
   "cell_type": "code",
   "execution_count": 1,
   "metadata": {},
   "outputs": [
    {
     "name": "stdout",
     "output_type": "stream",
     "text": [
      "Collecting gdown\n",
      "  Downloading gdown-4.7.1-py3-none-any.whl (15 kB)\n",
      "Requirement already satisfied: filelock in /mnt/VENV/user-conda/pyshen/miniconda3/envs/NASA/lib/python3.10/site-packages (from gdown) (3.12.4)\n",
      "Requirement already satisfied: requests[socks] in /mnt/VENV/user-conda/pyshen/miniconda3/envs/NASA/lib/python3.10/site-packages (from gdown) (2.31.0)\n",
      "Requirement already satisfied: six in /mnt/VENV/user-conda/pyshen/miniconda3/envs/NASA/lib/python3.10/site-packages (from gdown) (1.16.0)\n",
      "Requirement already satisfied: tqdm in /mnt/VENV/user-conda/pyshen/miniconda3/envs/NASA/lib/python3.10/site-packages (from gdown) (4.66.1)\n",
      "Collecting beautifulsoup4 (from gdown)\n",
      "  Downloading beautifulsoup4-4.12.2-py3-none-any.whl (142 kB)\n",
      "\u001b[2K     \u001b[90m━━━━━━━━━━━━━━━━━━━━━━━━━━━━━━━━━━━━━━━\u001b[0m \u001b[32m143.0/143.0 kB\u001b[0m \u001b[31m1.5 MB/s\u001b[0m eta \u001b[36m0:00:00\u001b[0ma \u001b[36m0:00:01\u001b[0m\n",
      "\u001b[?25hCollecting soupsieve>1.2 (from beautifulsoup4->gdown)\n",
      "  Obtaining dependency information for soupsieve>1.2 from https://files.pythonhosted.org/packages/4c/f3/038b302fdfbe3be7da016777069f26ceefe11a681055ea1f7817546508e3/soupsieve-2.5-py3-none-any.whl.metadata\n",
      "  Downloading soupsieve-2.5-py3-none-any.whl.metadata (4.7 kB)\n",
      "Requirement already satisfied: charset-normalizer<4,>=2 in /mnt/VENV/user-conda/pyshen/miniconda3/envs/NASA/lib/python3.10/site-packages (from requests[socks]->gdown) (3.3.0)\n",
      "Requirement already satisfied: idna<4,>=2.5 in /mnt/VENV/user-conda/pyshen/miniconda3/envs/NASA/lib/python3.10/site-packages (from requests[socks]->gdown) (3.4)\n",
      "Requirement already satisfied: urllib3<3,>=1.21.1 in /mnt/VENV/user-conda/pyshen/miniconda3/envs/NASA/lib/python3.10/site-packages (from requests[socks]->gdown) (2.0.6)\n",
      "Requirement already satisfied: certifi>=2017.4.17 in /mnt/VENV/user-conda/pyshen/miniconda3/envs/NASA/lib/python3.10/site-packages (from requests[socks]->gdown) (2023.7.22)\n",
      "Collecting PySocks!=1.5.7,>=1.5.6 (from requests[socks]->gdown)\n",
      "  Downloading PySocks-1.7.1-py3-none-any.whl (16 kB)\n",
      "Downloading soupsieve-2.5-py3-none-any.whl (36 kB)\n",
      "Installing collected packages: soupsieve, PySocks, beautifulsoup4, gdown\n",
      "Successfully installed PySocks-1.7.1 beautifulsoup4-4.12.2 gdown-4.7.1 soupsieve-2.5\n",
      "Note: you may need to restart the kernel to use updated packages.\n"
     ]
    }
   ],
   "source": [
    "# If you do not have gdown, please install it by the following command\n",
    "%pip install gdown"
   ]
  },
  {
   "cell_type": "code",
   "execution_count": null,
   "metadata": {},
   "outputs": [],
   "source": [
    "!mkdir -p images\n",
    "!gdown --id 12uTho5HPxwYDjb8-k1quvtEkElQ5Li3A -O ISS_lightning.zip\n",
    "!mv ISS_lightning.zip images\n",
    "!unzip images/ISS_lightning.zip -d images\n",
    "!unzip images/LowRes.zip -d images\n",
    "!unzip images/HighRes.zip -d images"
   ]
  },
  {
   "cell_type": "markdown",
   "metadata": {},
   "source": [
    "also install the modules:"
   ]
  },
  {
   "cell_type": "code",
   "execution_count": 3,
   "metadata": {},
   "outputs": [
    {
     "name": "stdout",
     "output_type": "stream",
     "text": [
      "Requirement already satisfied: opencv-python in /mnt/VENV/user-conda/pyshen/miniconda3/envs/NASA/lib/python3.10/site-packages (4.8.1.78)\n",
      "Requirement already satisfied: numpy in /mnt/VENV/user-conda/pyshen/miniconda3/envs/NASA/lib/python3.10/site-packages (1.25.2)\n",
      "Requirement already satisfied: tqdm in /mnt/VENV/user-conda/pyshen/miniconda3/envs/NASA/lib/python3.10/site-packages (4.66.1)\n",
      "Requirement already satisfied: matplotlib in /mnt/VENV/user-conda/pyshen/miniconda3/envs/NASA/lib/python3.10/site-packages (3.8.0)\n",
      "Collecting music21\n",
      "  Obtaining dependency information for music21 from https://files.pythonhosted.org/packages/a1/1b/ef7bdf01df19cc7ac9294531a9c991c6d382bde6bc15c9d106b9a5e547ef/music21-9.1.0-py3-none-any.whl.metadata\n",
      "  Downloading music21-9.1.0-py3-none-any.whl.metadata (4.8 kB)\n",
      "Requirement already satisfied: contourpy>=1.0.1 in /mnt/VENV/user-conda/pyshen/miniconda3/envs/NASA/lib/python3.10/site-packages (from matplotlib) (1.1.1)\n",
      "Requirement already satisfied: cycler>=0.10 in /mnt/VENV/user-conda/pyshen/miniconda3/envs/NASA/lib/python3.10/site-packages (from matplotlib) (0.12.1)\n",
      "Requirement already satisfied: fonttools>=4.22.0 in /mnt/VENV/user-conda/pyshen/miniconda3/envs/NASA/lib/python3.10/site-packages (from matplotlib) (4.43.1)\n",
      "Requirement already satisfied: kiwisolver>=1.0.1 in /mnt/VENV/user-conda/pyshen/miniconda3/envs/NASA/lib/python3.10/site-packages (from matplotlib) (1.4.5)\n",
      "Requirement already satisfied: packaging>=20.0 in /mnt/VENV/user-conda/pyshen/miniconda3/envs/NASA/lib/python3.10/site-packages (from matplotlib) (23.2)\n",
      "Requirement already satisfied: pillow>=6.2.0 in /mnt/VENV/user-conda/pyshen/miniconda3/envs/NASA/lib/python3.10/site-packages (from matplotlib) (10.0.1)\n",
      "Requirement already satisfied: pyparsing>=2.3.1 in /mnt/VENV/user-conda/pyshen/miniconda3/envs/NASA/lib/python3.10/site-packages (from matplotlib) (3.1.1)\n",
      "Requirement already satisfied: python-dateutil>=2.7 in /mnt/VENV/user-conda/pyshen/miniconda3/envs/NASA/lib/python3.10/site-packages (from matplotlib) (2.8.2)\n",
      "Collecting chardet (from music21)\n",
      "  Obtaining dependency information for chardet from https://files.pythonhosted.org/packages/38/6f/f5fbc992a329ee4e0f288c1fe0e2ad9485ed064cac731ed2fe47dcc38cbf/chardet-5.2.0-py3-none-any.whl.metadata\n",
      "  Downloading chardet-5.2.0-py3-none-any.whl.metadata (3.4 kB)\n",
      "Requirement already satisfied: joblib in /mnt/VENV/user-conda/pyshen/miniconda3/envs/NASA/lib/python3.10/site-packages (from music21) (1.3.2)\n",
      "Collecting jsonpickle (from music21)\n",
      "  Obtaining dependency information for jsonpickle from https://files.pythonhosted.org/packages/d3/25/6e0a450430b7aa194b0f515f64820fc619314faa289458b7dfca4a026114/jsonpickle-3.0.2-py3-none-any.whl.metadata\n",
      "  Downloading jsonpickle-3.0.2-py3-none-any.whl.metadata (7.5 kB)\n",
      "Collecting more-itertools (from music21)\n",
      "  Obtaining dependency information for more-itertools from https://files.pythonhosted.org/packages/5a/cb/6dce742ea14e47d6f565589e859ad225f2a5de576d7696e0623b784e226b/more_itertools-10.1.0-py3-none-any.whl.metadata\n",
      "  Downloading more_itertools-10.1.0-py3-none-any.whl.metadata (33 kB)\n",
      "Requirement already satisfied: requests in /mnt/VENV/user-conda/pyshen/miniconda3/envs/NASA/lib/python3.10/site-packages (from music21) (2.31.0)\n",
      "Collecting webcolors>=1.5 (from music21)\n",
      "  Downloading webcolors-1.13-py3-none-any.whl (14 kB)\n",
      "Requirement already satisfied: six>=1.5 in /mnt/VENV/user-conda/pyshen/miniconda3/envs/NASA/lib/python3.10/site-packages (from python-dateutil>=2.7->matplotlib) (1.16.0)\n",
      "Requirement already satisfied: charset-normalizer<4,>=2 in /mnt/VENV/user-conda/pyshen/miniconda3/envs/NASA/lib/python3.10/site-packages (from requests->music21) (3.3.0)\n",
      "Requirement already satisfied: idna<4,>=2.5 in /mnt/VENV/user-conda/pyshen/miniconda3/envs/NASA/lib/python3.10/site-packages (from requests->music21) (3.4)\n",
      "Requirement already satisfied: urllib3<3,>=1.21.1 in /mnt/VENV/user-conda/pyshen/miniconda3/envs/NASA/lib/python3.10/site-packages (from requests->music21) (2.0.6)\n",
      "Requirement already satisfied: certifi>=2017.4.17 in /mnt/VENV/user-conda/pyshen/miniconda3/envs/NASA/lib/python3.10/site-packages (from requests->music21) (2023.7.22)\n",
      "Downloading music21-9.1.0-py3-none-any.whl (22.8 MB)\n",
      "\u001b[2K   \u001b[90m━━━━━━━━━━━━━━━━━━━━━━━━━━━━━━━━━━━━━━━━\u001b[0m \u001b[32m22.8/22.8 MB\u001b[0m \u001b[31m15.5 MB/s\u001b[0m eta \u001b[36m0:00:00\u001b[0m00:01\u001b[0m00:01\u001b[0m\n",
      "\u001b[?25hDownloading chardet-5.2.0-py3-none-any.whl (199 kB)\n",
      "\u001b[2K   \u001b[90m━━━━━━━━━━━━━━━━━━━━━━━━━━━━━━━━━━━━━━━━\u001b[0m \u001b[32m199.4/199.4 kB\u001b[0m \u001b[31m7.6 MB/s\u001b[0m eta \u001b[36m0:00:00\u001b[0m\n",
      "\u001b[?25hDownloading jsonpickle-3.0.2-py3-none-any.whl (40 kB)\n",
      "\u001b[2K   \u001b[90m━━━━━━━━━━━━━━━━━━━━━━━━━━━━━━━━━━━━━━━━\u001b[0m \u001b[32m40.7/40.7 kB\u001b[0m \u001b[31m1.6 MB/s\u001b[0m eta \u001b[36m0:00:00\u001b[0m\n",
      "\u001b[?25hDownloading more_itertools-10.1.0-py3-none-any.whl (55 kB)\n",
      "\u001b[2K   \u001b[90m━━━━━━━━━━━━━━━━━━━━━━━━━━━━━━━━━━━━━━━━\u001b[0m \u001b[32m55.8/55.8 kB\u001b[0m \u001b[31m1.9 MB/s\u001b[0m eta \u001b[36m0:00:00\u001b[0m\n",
      "\u001b[?25hInstalling collected packages: webcolors, more-itertools, jsonpickle, chardet, music21\n",
      "Successfully installed chardet-5.2.0 jsonpickle-3.0.2 more-itertools-10.1.0 music21-9.1.0 webcolors-1.13\n"
     ]
    }
   ],
   "source": [
    "!pip install opencv-python numpy tqdm matplotlib music21"
   ]
  },
  {
   "cell_type": "code",
   "execution_count": null,
   "metadata": {},
   "outputs": [],
   "source": []
  }
 ],
 "metadata": {
  "kernelspec": {
   "display_name": "NASA",
   "language": "python",
   "name": "python3"
  },
  "language_info": {
   "codemirror_mode": {
    "name": "ipython",
    "version": 3
   },
   "file_extension": ".py",
   "mimetype": "text/x-python",
   "name": "python",
   "nbconvert_exporter": "python",
   "pygments_lexer": "ipython3",
   "version": "3.10.13"
  }
 },
 "nbformat": 4,
 "nbformat_minor": 2
}
