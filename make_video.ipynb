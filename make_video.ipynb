{
 "cells": [
  {
   "cell_type": "code",
   "execution_count": 16,
   "metadata": {},
   "outputs": [],
   "source": [
    "import cv2\n",
    "from pathlib import Path\n",
    "from tqdm import tqdm\n",
    "\n",
    "VIDEO_TYPE = 'Low' # 'High' or 'Low'\n",
    "IMAGE_DIR = f'images/{VIDEO_TYPE}Res'\n",
    "VIDEO_NAME = f'videos/output-{VIDEO_TYPE}.mp4'\n",
    "Path(VIDEO_NAME).parent.mkdir(parents=True, exist_ok=True)\n"
   ]
  },
  {
   "cell_type": "code",
   "execution_count": 18,
   "metadata": {},
   "outputs": [
    {
     "name": "stdout",
     "output_type": "stream",
     "text": [
      "There are 678 frames in the video.\n"
     ]
    }
   ],
   "source": [
    "# get the list of all images\n",
    "image_path = Path(IMAGE_DIR)\n",
    "image_names = [str(filename) for filename in image_path.glob('*.jpg')]\n",
    "image_names.sort()\n",
    "print(f'There are {len(image_names)} frames in the video.')\n",
    "\n",
    "# get the first image to determine the video size\n",
    "# H264 does not support such high resolution so we need to resize\n",
    "first_image = cv2.imread(image_names[0])\n",
    "height, width, channels = first_image.shape\n",
    "video_h = height // 2 if VIDEO_TYPE == 'High' else height\n",
    "video_w = width // 2 if VIDEO_TYPE == 'High' else width\n",
    "\n",
    "# create the video writer object\n",
    "fourcc = cv2.VideoWriter_fourcc(*'mp4v')\n",
    "video_writer = cv2.VideoWriter(VIDEO_NAME, fourcc, 30, (video_w, video_h))"
   ]
  },
  {
   "cell_type": "code",
   "execution_count": 19,
   "metadata": {},
   "outputs": [
    {
     "name": "stderr",
     "output_type": "stream",
     "text": [
      "Rendering video: 100%|██████████| 678/678 [00:02<00:00, 245.29it/s]\n"
     ]
    }
   ],
   "source": [
    "\n",
    "# write each image to the video\n",
    "for image_name in tqdm(image_names, desc='Rendering video'):\n",
    "    image = cv2.imread(image_name)\n",
    "    image=cv2.resize(image,(video_w, video_h))\n",
    "    video_writer.write(image)\n",
    "\n",
    "# release the video writer object\n",
    "video_writer.release()\n"
   ]
  },
  {
   "cell_type": "code",
   "execution_count": null,
   "metadata": {},
   "outputs": [],
   "source": []
  }
 ],
 "metadata": {
  "kernelspec": {
   "display_name": "NASA",
   "language": "python",
   "name": "python3"
  },
  "language_info": {
   "codemirror_mode": {
    "name": "ipython",
    "version": 3
   },
   "file_extension": ".py",
   "mimetype": "text/x-python",
   "name": "python",
   "nbconvert_exporter": "python",
   "pygments_lexer": "ipython3",
   "version": "3.10.13"
  }
 },
 "nbformat": 4,
 "nbformat_minor": 2
}
